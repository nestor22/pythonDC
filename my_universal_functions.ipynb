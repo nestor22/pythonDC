{
 "cells": [
  {
   "cell_type": "code",
   "execution_count": 6,
   "id": "c3f75645",
   "metadata": {},
   "outputs": [],
   "source": [
    "def checkIfNotNumeric(*args):\n",
    "    \"\"\"\n",
    "    This function veryfi is all arguments are numeric\n",
    "    \"\"\"\n",
    "    retValue=True\n",
    "    for x in args:\n",
    "        if not(isinstance(x,(int,float))):\n",
    "            return False\n",
    "        \n",
    "    return True\n",
    "            "
   ]
  },
  {
   "cell_type": "code",
   "execution_count": 7,
   "id": "61a75d9c",
   "metadata": {},
   "outputs": [],
   "source": [
    "def addAllNumeric(*args):\n",
    "    \"\"\"\n",
    "    this function sum all args \n",
    "    \"\"\"\n",
    "    s =0 \n",
    "    for x in args:\n",
    "        s+=x\n",
    "    return s\n"
   ]
  },
  {
   "cell_type": "code",
   "execution_count": 9,
   "id": "80ce8166",
   "metadata": {},
   "outputs": [],
   "source": [
    "myName=\"PythonCourse\""
   ]
  },
  {
   "cell_type": "code",
   "execution_count": null,
   "id": "f4810877",
   "metadata": {},
   "outputs": [],
   "source": []
  }
 ],
 "metadata": {
  "kernelspec": {
   "display_name": "Python 3",
   "language": "python",
   "name": "python3"
  },
  "language_info": {
   "codemirror_mode": {
    "name": "ipython",
    "version": 3
   },
   "file_extension": ".py",
   "mimetype": "text/x-python",
   "name": "python",
   "nbconvert_exporter": "python",
   "pygments_lexer": "ipython3",
   "version": "3.8.6"
  }
 },
 "nbformat": 4,
 "nbformat_minor": 5
}
