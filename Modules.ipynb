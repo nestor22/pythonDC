{
 "cells": [
  {
   "cell_type": "markdown",
   "id": "4e778634",
   "metadata": {},
   "source": [
    "# Modules"
   ]
  },
  {
   "cell_type": "code",
   "execution_count": 21,
   "id": "5250fbeb",
   "metadata": {},
   "outputs": [],
   "source": [
    "#import the module\n",
    "import sys\n",
    "sys.path.append('/home/ngonzalez/Documents/Proyectos/pythonForDT')"
   ]
  },
  {
   "cell_type": "code",
   "execution_count": 25,
   "id": "3390e124",
   "metadata": {},
   "outputs": [],
   "source": [
    "import my_functions as myfs"
   ]
  },
  {
   "cell_type": "code",
   "execution_count": null,
   "id": "419ca4f5",
   "metadata": {},
   "outputs": [],
   "source": [
    "my"
   ]
  },
  {
   "cell_type": "code",
   "execution_count": null,
   "id": "1deecb72",
   "metadata": {},
   "outputs": [],
   "source": []
  },
  {
   "cell_type": "code",
   "execution_count": null,
   "id": "876160fe",
   "metadata": {},
   "outputs": [],
   "source": []
  }
 ],
 "metadata": {
  "kernelspec": {
   "display_name": "Python 3",
   "language": "python",
   "name": "python3"
  },
  "language_info": {
   "codemirror_mode": {
    "name": "ipython",
    "version": 3
   },
   "file_extension": ".py",
   "mimetype": "text/x-python",
   "name": "python",
   "nbconvert_exporter": "python",
   "pygments_lexer": "ipython3",
   "version": "3.8.6"
  }
 },
 "nbformat": 4,
 "nbformat_minor": 5
}
