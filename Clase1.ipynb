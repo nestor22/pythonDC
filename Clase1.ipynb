{
 "cells": [
  {
   "cell_type": "code",
   "execution_count": 1,
   "id": "691c3951",
   "metadata": {},
   "outputs": [
    {
     "name": "stdout",
     "output_type": "stream",
     "text": [
      "hellow worl\n"
     ]
    }
   ],
   "source": [
    "print (\"hellow worl\")"
   ]
  },
  {
   "cell_type": "markdown",
   "id": "565929da",
   "metadata": {},
   "source": [
    "# Variables"
   ]
  },
  {
   "cell_type": "code",
   "execution_count": 2,
   "id": "37253026",
   "metadata": {},
   "outputs": [],
   "source": [
    "x = 3 "
   ]
  },
  {
   "cell_type": "code",
   "execution_count": 3,
   "id": "b44fd6bb",
   "metadata": {},
   "outputs": [
    {
     "name": "stdout",
     "output_type": "stream",
     "text": [
      "Variable   Type    Data/Info\n",
      "----------------------------\n",
      "x          int     3\n"
     ]
    }
   ],
   "source": [
    "%whos"
   ]
  },
  {
   "cell_type": "markdown",
   "id": "bda1cefb",
   "metadata": {},
   "source": [
    "para saber que variables hay en memoria \n",
    "y para saber el typo"
   ]
  },
  {
   "cell_type": "code",
   "execution_count": 5,
   "id": "5674a79a",
   "metadata": {},
   "outputs": [
    {
     "name": "stdout",
     "output_type": "stream",
     "text": [
      "<class 'int'>\n"
     ]
    }
   ],
   "source": [
    "print(type(x))"
   ]
  },
  {
   "cell_type": "code",
   "execution_count": 6,
   "id": "6a84c025",
   "metadata": {},
   "outputs": [
    {
     "name": "stdout",
     "output_type": "stream",
     "text": [
      "Variable   Type     Data/Info\n",
      "-----------------------------\n",
      "abcd       float    345.2\n",
      "x          int      3\n"
     ]
    }
   ],
   "source": [
    "abcd = 345.2\n",
    "%whos"
   ]
  },
  {
   "cell_type": "code",
   "execution_count": 7,
   "id": "65fa70ef",
   "metadata": {},
   "outputs": [],
   "source": [
    "a,b,c,d=1,2.3,\"abc\",56"
   ]
  },
  {
   "cell_type": "code",
   "execution_count": 8,
   "id": "5dffea32",
   "metadata": {},
   "outputs": [
    {
     "name": "stdout",
     "output_type": "stream",
     "text": [
      "Variable   Type     Data/Info\n",
      "-----------------------------\n",
      "a          int      1\n",
      "abcd       float    345.2\n",
      "b          float    2.3\n",
      "c          str      abc\n",
      "d          int      56\n",
      "x          int      3\n"
     ]
    }
   ],
   "source": [
    "%whos"
   ]
  },
  {
   "cell_type": "code",
   "execution_count": 9,
   "id": "43f328a2",
   "metadata": {},
   "outputs": [],
   "source": [
    "del abcd"
   ]
  },
  {
   "cell_type": "code",
   "execution_count": 10,
   "id": "dc99d912",
   "metadata": {},
   "outputs": [
    {
     "name": "stdout",
     "output_type": "stream",
     "text": [
      "Variable   Type     Data/Info\n",
      "-----------------------------\n",
      "a          int      1\n",
      "b          float    2.3\n",
      "c          str      abc\n",
      "d          int      56\n",
      "x          int      3\n"
     ]
    }
   ],
   "source": [
    "%whos"
   ]
  },
  {
   "cell_type": "markdown",
   "id": "ce2bc122",
   "metadata": {},
   "source": [
    "Del se usa apra eliminar palabras"
   ]
  },
  {
   "cell_type": "code",
   "execution_count": 11,
   "id": "d98b8762",
   "metadata": {},
   "outputs": [],
   "source": [
    "c = 2+4j"
   ]
  },
  {
   "cell_type": "code",
   "execution_count": 12,
   "id": "29e91388",
   "metadata": {},
   "outputs": [
    {
     "name": "stdout",
     "output_type": "stream",
     "text": [
      "<class 'complex'>\n"
     ]
    }
   ],
   "source": [
    "print(type(c))"
   ]
  },
  {
   "cell_type": "markdown",
   "id": "d6f1c953",
   "metadata": {},
   "source": [
    "# Operators"
   ]
  },
  {
   "cell_type": "code",
   "execution_count": 13,
   "id": "39ecabe8",
   "metadata": {},
   "outputs": [],
   "source": [
    "sum_ab = a+b"
   ]
  },
  {
   "cell_type": "code",
   "execution_count": 15,
   "id": "97f58c62",
   "metadata": {},
   "outputs": [
    {
     "data": {
      "text/plain": [
       "3.3"
      ]
     },
     "execution_count": 15,
     "metadata": {},
     "output_type": "execute_result"
    }
   ],
   "source": [
    "sum_ab"
   ]
  },
  {
   "cell_type": "code",
   "execution_count": 16,
   "id": "2f94f0ff",
   "metadata": {},
   "outputs": [],
   "source": [
    "a,b = \"hola\",\" mundo\""
   ]
  },
  {
   "cell_type": "code",
   "execution_count": 17,
   "id": "1011bb3c",
   "metadata": {},
   "outputs": [],
   "source": [
    "sum_ab = a+b"
   ]
  },
  {
   "cell_type": "code",
   "execution_count": 19,
   "id": "439eebcb",
   "metadata": {},
   "outputs": [
    {
     "data": {
      "text/plain": [
       "'hola mundo'"
      ]
     },
     "execution_count": 19,
     "metadata": {},
     "output_type": "execute_result"
    }
   ],
   "source": [
    "sum_ab"
   ]
  },
  {
   "cell_type": "code",
   "execution_count": 20,
   "id": "64ada59c",
   "metadata": {},
   "outputs": [
    {
     "data": {
      "text/plain": [
       "4.2"
      ]
     },
     "execution_count": 20,
     "metadata": {},
     "output_type": "execute_result"
    }
   ],
   "source": [
    "a,d = 1.2,3\n",
    "a+d"
   ]
  },
  {
   "cell_type": "code",
   "execution_count": 21,
   "id": "9ab70fbf",
   "metadata": {},
   "outputs": [
    {
     "name": "stdout",
     "output_type": "stream",
     "text": [
      "<class 'float'>\n"
     ]
    }
   ],
   "source": [
    "print(type(a+d))"
   ]
  },
  {
   "cell_type": "code",
   "execution_count": 22,
   "id": "f0060398",
   "metadata": {},
   "outputs": [
    {
     "data": {
      "text/plain": [
       "18.522000000000002"
      ]
     },
     "execution_count": 22,
     "metadata": {},
     "output_type": "execute_result"
    }
   ],
   "source": [
    "((a+d)**3)/4"
   ]
  },
  {
   "cell_type": "code",
   "execution_count": 23,
   "id": "102d2f09",
   "metadata": {},
   "outputs": [
    {
     "data": {
      "text/plain": [
       "18.522000000000002"
      ]
     },
     "execution_count": 23,
     "metadata": {},
     "output_type": "execute_result"
    }
   ],
   "source": [
    "_"
   ]
  },
  {
   "cell_type": "markdown",
   "id": "033a9e09",
   "metadata": {},
   "source": [
    "# Booleans"
   ]
  },
  {
   "cell_type": "code",
   "execution_count": 24,
   "id": "55e905ea",
   "metadata": {},
   "outputs": [],
   "source": [
    "a = True\n",
    "b = False"
   ]
  },
  {
   "cell_type": "code",
   "execution_count": 25,
   "id": "7fb97ba4",
   "metadata": {},
   "outputs": [
    {
     "data": {
      "text/plain": [
       "False"
      ]
     },
     "execution_count": 25,
     "metadata": {},
     "output_type": "execute_result"
    }
   ],
   "source": [
    "a == b"
   ]
  },
  {
   "cell_type": "code",
   "execution_count": 26,
   "id": "86497dd8",
   "metadata": {},
   "outputs": [
    {
     "data": {
      "text/plain": [
       "False"
      ]
     },
     "execution_count": 26,
     "metadata": {},
     "output_type": "execute_result"
    }
   ],
   "source": [
    "4>5"
   ]
  },
  {
   "cell_type": "code",
   "execution_count": 27,
   "id": "39cfd567",
   "metadata": {},
   "outputs": [
    {
     "data": {
      "text/plain": [
       "True"
      ]
     },
     "execution_count": 27,
     "metadata": {},
     "output_type": "execute_result"
    }
   ],
   "source": [
    "3!=-3"
   ]
  },
  {
   "cell_type": "code",
   "execution_count": 28,
   "id": "077ea0e4",
   "metadata": {},
   "outputs": [
    {
     "data": {
      "text/plain": [
       "False"
      ]
     },
     "execution_count": 28,
     "metadata": {},
     "output_type": "execute_result"
    }
   ],
   "source": [
    "not(a)"
   ]
  },
  {
   "cell_type": "markdown",
   "id": "19fc8117",
   "metadata": {},
   "source": [
    "# Comparisons"
   ]
  },
  {
   "cell_type": "code",
   "execution_count": 29,
   "id": "7e8fce07",
   "metadata": {},
   "outputs": [
    {
     "name": "stdout",
     "output_type": "stream",
     "text": [
      "True\n"
     ]
    }
   ],
   "source": [
    "print(2<3)"
   ]
  },
  {
   "cell_type": "code",
   "execution_count": 30,
   "id": "0e2d39e6",
   "metadata": {},
   "outputs": [
    {
     "name": "stdout",
     "output_type": "stream",
     "text": [
      "<class 'bool'>\n",
      "True\n"
     ]
    }
   ],
   "source": [
    "c = 2<3\n",
    "print(type(c))\n",
    "print(c)"
   ]
  },
  {
   "cell_type": "code",
   "execution_count": 31,
   "id": "7440afb6",
   "metadata": {},
   "outputs": [
    {
     "data": {
      "text/plain": [
       "True"
      ]
     },
     "execution_count": 31,
     "metadata": {},
     "output_type": "execute_result"
    }
   ],
   "source": [
    "False and False or True"
   ]
  },
  {
   "cell_type": "code",
   "execution_count": 32,
   "id": "9f18385e",
   "metadata": {},
   "outputs": [
    {
     "data": {
      "text/plain": [
       "True"
      ]
     },
     "execution_count": 32,
     "metadata": {},
     "output_type": "execute_result"
    }
   ],
   "source": [
    "True or False and False"
   ]
  },
  {
   "cell_type": "markdown",
   "id": "cb7c99ce",
   "metadata": {},
   "source": [
    "# some useful functions\n",
    "round() "
   ]
  },
  {
   "cell_type": "code",
   "execution_count": 33,
   "id": "b1dfa9c0",
   "metadata": {},
   "outputs": [
    {
     "name": "stdout",
     "output_type": "stream",
     "text": [
      "5\n"
     ]
    }
   ],
   "source": [
    "print(round(5.234234123))"
   ]
  },
  {
   "cell_type": "code",
   "execution_count": 34,
   "id": "70ab22ae",
   "metadata": {},
   "outputs": [
    {
     "name": "stdout",
     "output_type": "stream",
     "text": [
      "4.558\n"
     ]
    }
   ],
   "source": [
    "print(round(4.55842, 3))"
   ]
  },
  {
   "cell_type": "code",
   "execution_count": 35,
   "id": "28fcdc8b",
   "metadata": {},
   "outputs": [
    {
     "name": "stdout",
     "output_type": "stream",
     "text": [
      "4.56\n"
     ]
    }
   ],
   "source": [
    "print(round(4.55842, 2))"
   ]
  },
  {
   "cell_type": "markdown",
   "id": "b0b81e8f",
   "metadata": {},
   "source": [
    "divmod(x,y) -> outputs the quotient and the remainder in a tuple"
   ]
  },
  {
   "cell_type": "code",
   "execution_count": 36,
   "id": "38828d18",
   "metadata": {},
   "outputs": [
    {
     "data": {
      "text/plain": [
       "(5, 2)"
      ]
     },
     "execution_count": 36,
     "metadata": {},
     "output_type": "execute_result"
    }
   ],
   "source": [
    "divmod(27,5)"
   ]
  },
  {
   "cell_type": "code",
   "execution_count": 37,
   "id": "802f0498",
   "metadata": {},
   "outputs": [
    {
     "data": {
      "text/plain": [
       "(3, 0)"
      ]
     },
     "execution_count": 37,
     "metadata": {},
     "output_type": "execute_result"
    }
   ],
   "source": [
    "divmod(30,10)"
   ]
  },
  {
   "cell_type": "code",
   "execution_count": 38,
   "id": "e4c0f542",
   "metadata": {},
   "outputs": [],
   "source": [
    "G = divmod(34,9)"
   ]
  },
  {
   "cell_type": "code",
   "execution_count": 39,
   "id": "df7d1b0e",
   "metadata": {},
   "outputs": [
    {
     "data": {
      "text/plain": [
       "7"
      ]
     },
     "execution_count": 39,
     "metadata": {},
     "output_type": "execute_result"
    }
   ],
   "source": [
    "G[1]"
   ]
  },
  {
   "cell_type": "code",
   "execution_count": 40,
   "id": "43787412",
   "metadata": {},
   "outputs": [
    {
     "data": {
      "text/plain": [
       "(3, 7)"
      ]
     },
     "execution_count": 40,
     "metadata": {},
     "output_type": "execute_result"
    }
   ],
   "source": [
    "G"
   ]
  },
  {
   "cell_type": "code",
   "execution_count": 41,
   "id": "59636987",
   "metadata": {},
   "outputs": [
    {
     "data": {
      "text/plain": [
       "tuple"
      ]
     },
     "execution_count": 41,
     "metadata": {},
     "output_type": "execute_result"
    }
   ],
   "source": [
    "type(G)"
   ]
  },
  {
   "cell_type": "markdown",
   "id": "2aa67dfe",
   "metadata": {},
   "source": [
    "isinstance() return true if the first argument is a instance of that class, multiple classes can also be checkerd"
   ]
  },
  {
   "cell_type": "code",
   "execution_count": 42,
   "id": "3dd419a8",
   "metadata": {},
   "outputs": [
    {
     "name": "stdout",
     "output_type": "stream",
     "text": [
      "True\n"
     ]
    }
   ],
   "source": [
    "print(isinstance(1,int))"
   ]
  },
  {
   "cell_type": "code",
   "execution_count": 44,
   "id": "fc4baba9",
   "metadata": {},
   "outputs": [
    {
     "name": "stdout",
     "output_type": "stream",
     "text": [
      "True\n"
     ]
    }
   ],
   "source": [
    "print(isinstance(1,(int,float)))"
   ]
  },
  {
   "cell_type": "markdown",
   "id": "94ed04df",
   "metadata": {},
   "source": [
    "pow(x,y,z) -> x raise to the power y and remainder by z\n",
    "\n",
    "x^y%z"
   ]
  },
  {
   "cell_type": "code",
   "execution_count": 45,
   "id": "a77207f5",
   "metadata": {},
   "outputs": [
    {
     "data": {
      "text/plain": [
       "2"
      ]
     },
     "execution_count": 45,
     "metadata": {},
     "output_type": "execute_result"
    }
   ],
   "source": [
    "pow(2,4,7)"
   ]
  },
  {
   "cell_type": "markdown",
   "id": "9eb3fac3",
   "metadata": {},
   "source": [
    "input() -> enter something"
   ]
  },
  {
   "cell_type": "code",
   "execution_count": 46,
   "id": "df95ecd6",
   "metadata": {},
   "outputs": [
    {
     "name": "stdout",
     "output_type": "stream",
     "text": [
      "enter a stringhola\n"
     ]
    }
   ],
   "source": [
    "a = input(\"enter a string\")"
   ]
  },
  {
   "cell_type": "code",
   "execution_count": 47,
   "id": "b6f492a3",
   "metadata": {},
   "outputs": [
    {
     "name": "stdout",
     "output_type": "stream",
     "text": [
      "ingrese a number: 23\n"
     ]
    }
   ],
   "source": [
    "a = int(input(\"ingrese a number: \"))"
   ]
  },
  {
   "cell_type": "code",
   "execution_count": 48,
   "id": "0ccefbbf",
   "metadata": {},
   "outputs": [],
   "source": [
    "pow?"
   ]
  },
  {
   "cell_type": "markdown",
   "id": "54214a89",
   "metadata": {},
   "source": [
    "# control flow"
   ]
  },
  {
   "cell_type": "code",
   "execution_count": 49,
   "id": "ae7cbcee",
   "metadata": {},
   "outputs": [
    {
     "name": "stdout",
     "output_type": "stream",
     "text": [
      "2\n",
      "3\n",
      "b is greater than a\n"
     ]
    }
   ],
   "source": [
    "a = int(input())\n",
    "b = int(input())\n",
    "if b> a:\n",
    "    print('b is greater than a')\n",
    "print('i am out of the condition')"
   ]
  },
  {
   "cell_type": "code",
   "execution_count": 50,
   "id": "c4e8d0f7",
   "metadata": {},
   "outputs": [
    {
     "name": "stdout",
     "output_type": "stream",
     "text": [
      "3\n",
      "2\n",
      "a is greter than b\n",
      "i am out of the condition\n"
     ]
    }
   ],
   "source": [
    "a = int(input())\n",
    "b = int(input())\n",
    "if b> a:\n",
    "    print('b is greater than a')\n",
    "elif a == b:\n",
    "    print('b and a are equal')\n",
    "else:\n",
    "    print('a is greter than b')\n",
    "print('i am out of the condition')"
   ]
  },
  {
   "cell_type": "markdown",
   "id": "6807acc9",
   "metadata": {},
   "source": [
    "otra forma rara "
   ]
  },
  {
   "cell_type": "code",
   "execution_count": 51,
   "id": "8d6a227d",
   "metadata": {},
   "outputs": [
    {
     "name": "stdout",
     "output_type": "stream",
     "text": [
      "a\n"
     ]
    }
   ],
   "source": [
    "print('a') if a > b else print('=') if a == b else print('b')"
   ]
  },
  {
   "cell_type": "code",
   "execution_count": 1,
   "id": "8cab658b",
   "metadata": {},
   "outputs": [
    {
     "name": "stdout",
     "output_type": "stream",
     "text": [
      "Enter a real number: 238.345\n"
     ]
    }
   ],
   "source": [
    "x = float(input('Enter a real number: '))"
   ]
  },
  {
   "cell_type": "code",
   "execution_count": 2,
   "id": "a3ce7952",
   "metadata": {},
   "outputs": [
    {
     "data": {
      "text/plain": [
       "238"
      ]
     },
     "execution_count": 2,
     "metadata": {},
     "output_type": "execute_result"
    }
   ],
   "source": [
    "int(x)"
   ]
  },
  {
   "cell_type": "code",
   "execution_count": 3,
   "id": "fc9b19cd",
   "metadata": {},
   "outputs": [
    {
     "ename": "NameError",
     "evalue": "name 'floor' is not defined",
     "output_type": "error",
     "traceback": [
      "\u001b[0;31m---------------------------------------------------------------------------\u001b[0m",
      "\u001b[0;31mNameError\u001b[0m                                 Traceback (most recent call last)",
      "\u001b[0;32m<ipython-input-3-e2865778e35e>\u001b[0m in \u001b[0;36m<module>\u001b[0;34m\u001b[0m\n\u001b[0;32m----> 1\u001b[0;31m \u001b[0mfloor\u001b[0m\u001b[0;34m(\u001b[0m\u001b[0mx\u001b[0m\u001b[0;34m)\u001b[0m\u001b[0;34m\u001b[0m\u001b[0;34m\u001b[0m\u001b[0m\n\u001b[0m",
      "\u001b[0;31mNameError\u001b[0m: name 'floor' is not defined"
     ]
    }
   ],
   "source": [
    "floor(x)"
   ]
  },
  {
   "cell_type": "markdown",
   "id": "8892000b",
   "metadata": {},
   "source": [
    "# Control Flow Loops"
   ]
  },
  {
   "cell_type": "code",
   "execution_count": 6,
   "id": "6835edbb",
   "metadata": {},
   "outputs": [
    {
     "name": "stdout",
     "output_type": "stream",
     "text": [
      "max iterations : 4\n",
      "1\n",
      "2\n",
      "3\n",
      "4\n",
      "done\n"
     ]
    }
   ],
   "source": [
    "n = int(input('max iterations : '))\n",
    "i =1 \n",
    "while i<= n:\n",
    "    print(i)\n",
    "    i+=1\n",
    "print('done')"
   ]
  },
  {
   "cell_type": "code",
   "execution_count": 9,
   "id": "6a89d033",
   "metadata": {},
   "outputs": [
    {
     "name": "stdout",
     "output_type": "stream",
     "text": [
      "max iteratios: 10\n",
      "2\n",
      "4\n",
      "6\n",
      "8\n",
      "done\n"
     ]
    }
   ],
   "source": [
    "n = int(input('max iteratios: '))\n",
    "i =1\n",
    "while i<n:\n",
    "    if i%2==0:\n",
    "        print(i)\n",
    "    else:\n",
    "        pass\n",
    "    i +=1\n",
    "    \n",
    "print('done')"
   ]
  },
  {
   "cell_type": "code",
   "execution_count": 13,
   "id": "0cfdec7c",
   "metadata": {},
   "outputs": [
    {
     "name": "stdout",
     "output_type": "stream",
     "text": [
      "break\n",
      "done\n"
     ]
    }
   ],
   "source": [
    "i = 1\n",
    "while True:\n",
    "    if i%17 == 0:\n",
    "        print('break')\n",
    "        break\n",
    "    else:\n",
    "        i+=1\n",
    "        continue\n",
    "    print('i am inse the loop')\n",
    "print('done')"
   ]
  },
  {
   "cell_type": "code",
   "execution_count": 15,
   "id": "8576108a",
   "metadata": {},
   "outputs": [
    {
     "name": "stdout",
     "output_type": "stream",
     "text": [
      "1\n",
      "2\n",
      "3\n",
      "4\n",
      "5\n",
      "6\n",
      "7\n",
      "8\n",
      "9\n",
      "10\n",
      "[0, 1, 4, 9, 16, 25, 36, 49, 64, 81]\n"
     ]
    }
   ],
   "source": [
    "L =[]\n",
    "for i in range(10):\n",
    "    print(i+1)\n",
    "    L.append(i**2)\n",
    "print(L)"
   ]
  },
  {
   "cell_type": "markdown",
   "id": "5a820b3e",
   "metadata": {},
   "source": [
    "los else pueden ser parte de un for loop"
   ]
  },
  {
   "cell_type": "code",
   "execution_count": 17,
   "id": "38620b66",
   "metadata": {},
   "outputs": [
    {
     "name": "stdout",
     "output_type": "stream",
     "text": [
      "apple\n",
      "cherry\n",
      "4.5\n",
      "loop completes it iteratios\n"
     ]
    }
   ],
   "source": [
    "S = {\"apple\", 4.5, \"cherry\"}\n",
    "\n",
    "for x in S:\n",
    "    print(x)\n",
    "else:\n",
    "    print('loop completes it iteratios')"
   ]
  },
  {
   "cell_type": "code",
   "execution_count": 27,
   "id": "1fb108a6",
   "metadata": {},
   "outputs": [
    {
     "name": "stdout",
     "output_type": "stream",
     "text": [
      "[9, 2, 5, 3, 7, 2, 3, 4, -2]\n",
      "[9, 2, 5, 3, 7, 5, 7, 7, 9]\n"
     ]
    }
   ],
   "source": [
    "list = [9,2,5,3,7,2,3,4,-2]\n",
    "print(list)\n",
    "for j in range(len(list)):\n",
    "    m = list[j]\n",
    "    idx =j\n",
    "    c = j\n",
    "\n",
    "    for i in range(j,len(list)):\n",
    "        if list[i]<m:\n",
    "            m = list[i]\n",
    "            idx = c\n",
    "        c+=1\n",
    "    tmp=list[j]\n",
    "    list[idx]=tmp\n",
    "print(list)\n",
    "    \n",
    "    "
   ]
  },
  {
   "cell_type": "markdown",
   "id": "c3a59509",
   "metadata": {},
   "source": [
    "# functions"
   ]
  },
  {
   "cell_type": "code",
   "execution_count": null,
   "id": "af9002d1",
   "metadata": {},
   "outputs": [],
   "source": []
  }
 ],
 "metadata": {
  "kernelspec": {
   "display_name": "Python 3",
   "language": "python",
   "name": "python3"
  },
  "language_info": {
   "codemirror_mode": {
    "name": "ipython",
    "version": 3
   },
   "file_extension": ".py",
   "mimetype": "text/x-python",
   "name": "python",
   "nbconvert_exporter": "python",
   "pygments_lexer": "ipython3",
   "version": "3.8.6"
  }
 },
 "nbformat": 4,
 "nbformat_minor": 5
}
